{
 "cells": [
  {
   "cell_type": "code",
   "execution_count": 1,
   "metadata": {
    "collapsed": false
   },
   "outputs": [
    {
     "name": "stderr",
     "output_type": "stream",
     "text": [
      "/home/mayank/anaconda2/lib/python2.7/site-packages/matplotlib/__init__.py:872: UserWarning: axes.color_cycle is deprecated and replaced with axes.prop_cycle; please use the latter.\n",
      "  warnings.warn(self.msg_depr % (key, alt_key))\n",
      "Using gpu device 0: GeForce GTX 960M (CNMeM is disabled)\n"
     ]
    }
   ],
   "source": [
    "import numpy as np\n",
    "import matplotlib.pyplot as plt\n",
    "import seaborn as sns\n",
    "import theano.tensor as T\n",
    "import lasagne"
   ]
  },
  {
   "cell_type": "code",
   "execution_count": 2,
   "metadata": {
    "collapsed": true
   },
   "outputs": [],
   "source": [
    "import theano"
   ]
  },
  {
   "cell_type": "code",
   "execution_count": 3,
   "metadata": {
    "collapsed": true
   },
   "outputs": [],
   "source": [
    "from scipy.stats import norm\n",
    "%matplotlib inline"
   ]
  },
  {
   "cell_type": "code",
   "execution_count": 4,
   "metadata": {
    "collapsed": true
   },
   "outputs": [],
   "source": [
    "mu, sigma = -1,1\n",
    "xs = np.linspace(-5,5,1000)"
   ]
  },
  {
   "cell_type": "code",
   "execution_count": 5,
   "metadata": {
    "collapsed": false
   },
   "outputs": [
    {
     "data": {
      "text/plain": [
       "[<matplotlib.lines.Line2D at 0x7fc5e8787490>]"
      ]
     },
     "execution_count": 5,
     "metadata": {},
     "output_type": "execute_result"
    },
    {
     "data": {
      "image/png": "[encoded data removed]",
      "text/plain": [
       "<matplotlib.figure.Figure at 0x7fc5e8839810>"
      ]
     },
     "metadata": {},
     "output_type": "display_data"
    }
   ],
   "source": [
    "plt.plot(xs, norm.pdf(xs, loc=mu, scale=sigma))"
   ]
  },
  {
   "cell_type": "code",
   "execution_count": null,
   "metadata": {
    "collapsed": true
   },
   "outputs": [],
   "source": []
  },
  {
   "cell_type": "code",
   "execution_count": 52,
   "metadata": {
    "collapsed": true
   },
   "outputs": [],
   "source": [
    "train_iters = 500\n",
    "M = 200"
   ]
  },
  {
   "cell_type": "code",
   "execution_count": 7,
   "metadata": {
    "collapsed": false
   },
   "outputs": [],
   "source": [
    "input_var_d = T.col('input_d')\n",
    "target_var_d = T.col('output_d')\n",
    "input_var_g = T.col('input_g')\n",
    "target_var_g = T.col('output_g')\n"
   ]
  },
  {
   "cell_type": "code",
   "execution_count": 123,
   "metadata": {
    "collapsed": false
   },
   "outputs": [],
   "source": [
    "#### Pre-Training\n",
    "\n",
    "##Discriminator\n",
    "\n",
    "l_in = lasagne.layers.InputLayer(shape=(M, 1), input_var=input_var_d)\n",
    "l_fw_1 = lasagne.layers.DenseLayer(l_in, num_units = 6, nonlinearity=lasagne.nonlinearities.tanh,\n",
    "                                  W = lasagne.init.GlorotUniform(),\n",
    "                                  b = lasagne.init.Constant(0.0))\n",
    "l_fw_2 = lasagne.layers.DenseLayer(l_fw_1, num_units = 5, nonlinearity=lasagne.nonlinearities.tanh,\n",
    "                                  W = lasagne.init.GlorotUniform(),\n",
    "                                  b = lasagne.init.Constant(0.0))\n",
    "l_out = lasagne.layers.DenseLayer(l_fw_2, num_units = 1, nonlinearity =lasagne.nonlinearities.tanh,\n",
    "                                 W = lasagne.init.GlorotUniform(),\n",
    "                                 b = lasagne.init.Constant(0.0))\n"
   ]
  },
  {
   "cell_type": "code",
   "execution_count": null,
   "metadata": {
    "collapsed": false
   },
   "outputs": [],
   "source": []
  },
  {
   "cell_type": "code",
   "execution_count": 124,
   "metadata": {
    "collapsed": false
   },
   "outputs": [],
   "source": [
    "prediction = lasagne.layers.get_output(l_out)\n",
    "loss = lasagne.objectives.squared_error(prediction, target_var_d)\n",
    "loss = loss.mean()"
   ]
  },
  {
   "cell_type": "code",
   "execution_count": 125,
   "metadata": {
    "collapsed": false
   },
   "outputs": [],
   "source": [
    "params = lasagne.layers.get_all_params(l_out, trainable=True)\n",
    "updates = lasagne.updates.momentum(loss, params, learning_rate = 0.03)"
   ]
  },
  {
   "cell_type": "code",
   "execution_count": 126,
   "metadata": {
    "collapsed": false
   },
   "outputs": [],
   "source": [
    "train = theano.function([input_var_d, target_var_d], loss, updates=updates, allow_input_downcast=True)\n"
   ]
  },
  {
   "cell_type": "code",
   "execution_count": 127,
   "metadata": {
    "collapsed": false
   },
   "outputs": [],
   "source": [
    "output = theano.function([input_var_d], prediction, allow_input_downcast=True)"
   ]
  },
  {
   "cell_type": "code",
   "execution_count": 128,
   "metadata": {
    "collapsed": true
   },
   "outputs": [],
   "source": [
    "###Plotting the decision surface\n",
    "def plot_d0():\n",
    "    f, ax = plt.subplots(1)\n",
    "    xs = np.linspace(-5,5,1000)\n",
    "    ax.plot(xs, norm.pdf(xs, loc=mu, scale=sigma), label='p_data')\n",
    "    \n",
    "    ###Decision Boundry\n",
    "    r = 1000 #Resolution\n",
    "    xs = np.linspace(-5,5,r)\n",
    "    ds = np.zeros((r,1)) #Decision Surface\n",
    "    \n",
    "    ####We process multiple points in parallel in a minibatch\n",
    "    for i in range(r/M):\n",
    "        x = np.reshape(xs[M*i:M*(i+1)], (M,1))\n",
    "        ds[M*i:M*(i+1)] = output(x)\n",
    "    \n",
    "    ax.plot(xs, ds, label='decision boundry')\n",
    "    ax.set_ylim(0,1.1)\n",
    "    plt.legend()"
   ]
  },
  {
   "cell_type": "code",
   "execution_count": 129,
   "metadata": {
    "collapsed": false
   },
   "outputs": [
    {
     "data": {
      "text/plain": [
       "<matplotlib.text.Text at 0x7fc5dfcd6150>"
      ]
     },
     "execution_count": 129,
     "metadata": {},
     "output_type": "execute_result"
    },
    {
     "data": {
      "image/png": "[encoded data removed]",
      "text/plain": [
       "<matplotlib.figure.Figure at 0x7fc5d8bbdf10>"
      ]
     },
     "metadata": {},
     "output_type": "display_data"
    }
   ],
   "source": [
    "plot_d0()\n",
    "plt.title('Initial Decision Boundry')"
   ]
  },
  {
   "cell_type": "code",
   "execution_count": 130,
   "metadata": {
    "collapsed": false
   },
   "outputs": [
    {
     "name": "stdout",
     "output_type": "stream",
     "text": [
      "0\n",
      "100\n",
      "200\n",
      "300\n",
      "400\n",
      "500\n",
      "600\n",
      "700\n",
      "800\n",
      "900\n"
     ]
    }
   ],
   "source": [
    "## Pretraining starts\n",
    "\n",
    "lh = np.zeros(1000)\n",
    "for i in range(1000):\n",
    "    d = (np.random.random(M))\n",
    "    d = np.reshape(d, (M,1))\n",
    "    labels =norm.pdf(d, loc=mu, scale=sigma)\n",
    "    labels = np.reshape(labels, (M,1))\n",
    "    lh[i] = train(d, labels)\n",
    "    if i%100 == 0:\n",
    "        print i"
   ]
  },
  {
   "cell_type": "code",
   "execution_count": 131,
   "metadata": {
    "collapsed": false
   },
   "outputs": [
    {
     "data": {
      "text/plain": [
       "[<matplotlib.lines.Line2D at 0x7fc5da930450>]"
      ]
     },
     "execution_count": 131,
     "metadata": {},
     "output_type": "execute_result"
    },
    {
     "data": {
      "image/png": "[encoded data removed]",
      "text/plain": [
       "<matplotlib.figure.Figure at 0x7fc5db3c7850>"
      ]
     },
     "metadata": {},
     "output_type": "display_data"
    }
   ],
   "source": [
    "plt.plot(lh)"
   ]
  },
  {
   "cell_type": "code",
   "execution_count": 132,
   "metadata": {
    "collapsed": false
   },
   "outputs": [
    {
     "data": {
      "image/png": "[encoded data removed]",
      "text/plain": [
       "<matplotlib.figure.Figure at 0x7fc5da4dfe50>"
      ]
     },
     "metadata": {},
     "output_type": "display_data"
    }
   ],
   "source": [
    "plot_d0()"
   ]
  },
  {
   "cell_type": "code",
   "execution_count": null,
   "metadata": {
    "collapsed": true
   },
   "outputs": [],
   "source": []
  },
  {
   "cell_type": "code",
   "execution_count": 193,
   "metadata": {
    "collapsed": false
   },
   "outputs": [],
   "source": [
    "##### The actual generative adversarial network #######\n",
    "\n",
    "## Generator\n",
    "g_in = lasagne.layers.InputLayer(shape=(M,1), input_var=input_var_g)\n",
    "g_fw_1 = lasagne.layers.DenseLayer(g_in, num_units=6, nonlinearity=lasagne.nonlinearities.tanh,\n",
    "                                  W = lasagne.init.GlorotUniform(),\n",
    "                                  b = lasagne.init.Constant(0.0))\n",
    "g_fw_2 = lasagne.layers.DenseLayer(g_fw_1, num_units=5, nonlinearity=lasagne.nonlinearities.tanh,\n",
    "                                  W = lasagne.init.GlorotUniform(),\n",
    "                                  b = lasagne.init.Constant(0.0))\n",
    "g_out = lasagne.layers.DenseLayer(g_fw_2, num_units=1, nonlinearity=lasagne.nonlinearities.tanh,\n",
    "                                  W = lasagne.init.GlorotUniform(),\n",
    "                                  b = lasagne.init.Constant(0.0))\n",
    "\n",
    "#Generated_sample\n",
    "prediction_g = lasagne.layers.get_output(g_out)\n"
   ]
  },
  {
   "cell_type": "code",
   "execution_count": 194,
   "metadata": {
    "collapsed": false
   },
   "outputs": [],
   "source": [
    "## Discriminator - D(G(x))\n",
    "dg_fw_1 = lasagne.layers.DenseLayer(g_out, num_units = 6, nonlinearity=lasagne.nonlinearities.tanh,\n",
    "                                  W = lasagne.init.GlorotUniform(),\n",
    "                                  b = lasagne.init.Constant(0.0))\n",
    "dg_fw_2 = lasagne.layers.DenseLayer(dg_fw_1, num_units = 5, nonlinearity=lasagne.nonlinearities.tanh,\n",
    "                                  W = lasagne.init.GlorotUniform(),\n",
    "                                  b = lasagne.init.Constant(0.0))\n",
    "dg_out = lasagne.layers.DenseLayer(dg_fw_2, num_units = 1, nonlinearity =lasagne.nonlinearities.tanh,\n",
    "                                 W = lasagne.init.GlorotUniform(),\n",
    "                                 b = lasagne.init.Constant(0.0))\n",
    "\n",
    "#Prediction\n",
    "prediction_dg = lasagne.layers.get_output(dg_out)"
   ]
  },
  {
   "cell_type": "code",
   "execution_count": 195,
   "metadata": {
    "collapsed": true
   },
   "outputs": [],
   "source": [
    "## Discriminator - D((x))\n",
    "#Shares weights with D(G(x))\n",
    "d_in = lasagne.layers.InputLayer(shape=(M, 1), input_var=input_var_d)\n",
    "d_fw_1 = lasagne.layers.DenseLayer(d_in, num_units = 6, nonlinearity=lasagne.nonlinearities.tanh,\n",
    "                                  W = dg_fw_1.W,\n",
    "                                  b = dg_fw_1.b)\n",
    "d_fw_2 = lasagne.layers.DenseLayer(d_fw_1, num_units = 5, nonlinearity=lasagne.nonlinearities.tanh,\n",
    "                                  W = dg_fw_2.W,\n",
    "                                  b = dg_fw_2.b)\n",
    "d_out = lasagne.layers.DenseLayer(d_fw_2, num_units = 1, nonlinearity =lasagne.nonlinearities.tanh,\n",
    "                                 W = dg_out.W,\n",
    "                                 b = dg_out.b)\n",
    "\n",
    "#Prediction\n",
    "prediction_d = lasagne.layers.get_output(d_out)"
   ]
  },
  {
   "cell_type": "code",
   "execution_count": 196,
   "metadata": {
    "collapsed": false
   },
   "outputs": [],
   "source": [
    "params_d_g_values = lasagne.layers.get_all_param_values(dg_out)\n",
    "\n",
    "params_d_values = lasagne.layers.get_all_param_values(d_out)\n",
    "\n",
    "params_g_values = lasagne.layers.get_all_param_values(g_out)\n",
    "\n",
    "params_pretrained_d_values = lasagne.layers.get_all_param_values(l_out)\n"
   ]
  },
  {
   "cell_type": "code",
   "execution_count": null,
   "metadata": {
    "collapsed": false
   },
   "outputs": [],
   "source": []
  },
  {
   "cell_type": "code",
   "execution_count": 197,
   "metadata": {
    "collapsed": false
   },
   "outputs": [],
   "source": [
    "## Using pretrained weights to imporve D\n",
    "\n",
    "lasagne.layers.set_all_param_values(d_out, params_pretrained_d_values)"
   ]
  },
  {
   "cell_type": "code",
   "execution_count": 198,
   "metadata": {
    "collapsed": true
   },
   "outputs": [],
   "source": [
    "## Getting the parameters\n",
    "params_d_g = lasagne.layers.get_all_params(dg_out)\n",
    "\n",
    "params_g = lasagne.layers.get_all_params(g_out)\n",
    "\n",
    "params_d = lasagne.layers.get_all_params(d_out)"
   ]
  },
  {
   "cell_type": "code",
   "execution_count": null,
   "metadata": {
    "collapsed": false
   },
   "outputs": [],
   "source": []
  },
  {
   "cell_type": "code",
   "execution_count": 199,
   "metadata": {
    "collapsed": true
   },
   "outputs": [],
   "source": [
    "## Objectives\n",
    "obj_d = T.mean(T.log(prediction_d) + T.log(1-prediction_dg))\n",
    "obj_g = T.mean(T.log(prediction_dg))\n",
    "\n",
    "## Updates\n",
    "updates_d = lasagne.updates.momentum(1-obj_d, params_d, learning_rate = 0.01)\n",
    "updates_g = lasagne.updates.momentum(1-obj_g, params_d_g, learning_rate = 0.01)"
   ]
  },
  {
   "cell_type": "code",
   "execution_count": 200,
   "metadata": {
    "collapsed": false
   },
   "outputs": [],
   "source": [
    "## Train functions ##\n",
    "train_d = theano.function([input_var_g, input_var_d], obj_d, updates=updates_d, allow_input_downcast=True)\n",
    "\n",
    "train_g = theano.function([input_var_g], obj_g, updates=updates_g, allow_input_downcast=True)"
   ]
  },
  {
   "cell_type": "code",
   "execution_count": 201,
   "metadata": {
    "collapsed": false
   },
   "outputs": [],
   "source": [
    "## Output functions##\n",
    "out_d = theano.function([input_var_d], prediction_d, allow_input_downcast=True)\n",
    "out_dg = theano.function([input_var_g], prediction_dg, allow_input_downcast=True)\n",
    "out_g = theano.function([input_var_g], prediction_g, allow_input_downcast=True)"
   ]
  },
  {
   "cell_type": "code",
   "execution_count": 202,
   "metadata": {
    "collapsed": true
   },
   "outputs": [],
   "source": [
    "###### MULTIPLY GEN OUT BY 5######\n",
    "\n",
    "\n",
    "\n",
    "\n",
    "def plot_fig():\n",
    "    \n",
    "    f, ax = plt.subplots(1)\n",
    "    #p_data\n",
    "    xs = np.linspace(-5,5,1000)\n",
    "    ax.plot(xs, norm.pdf(xs, loc=mu, scale=sigma), label='p_data')\n",
    "    \n",
    "    #decision_boundry\n",
    "    r=5000\n",
    "    xs = np.linspace(-5,5,r)\n",
    "    ds=np.zeros((r,1))\n",
    "    #process muliple points in parallel\n",
    "    for i in range(r/M):\n",
    "        x=np.reshape(xs[M*i:M*(i+1)], (M,1))\n",
    "        ds[M*i:M*(i+1)]=out_d(x)\n",
    "        \n",
    "    ax.plot(xs, ds, label='decision_boundry')\n",
    "        \n",
    "   \n",
    "    \n",
    "    \n",
    "    \n",
    "    # distribution of inverse mapped points\n",
    "    zs = np.linspace(-5,5,r)\n",
    "    gs = np.zeros((r,1))\n",
    "    for i in range(r/M):\n",
    "        z=np.reshape(zs[M*i:M*(i+1)],(M,1))\n",
    "        gs[M*i:M*(i+1)]=out_g(z)\n",
    "    histc, edges = np.histogram(gs, bins=10)\n",
    "    ax.plot(np.linspace(-5,5,10), histc/float(r), label='p_g')\n",
    "    \n",
    "    ax.set_ylim(-2,1.1)\n",
    "    plt.legend()\n",
    "    "
   ]
  },
  {
   "cell_type": "code",
   "execution_count": 203,
   "metadata": {
    "collapsed": false
   },
   "outputs": [
    {
     "data": {
      "image/png": "[encoded data removed]",
      "text/plain": [
       "<matplotlib.figure.Figure at 0x7fc5df1b7250>"
      ]
     },
     "metadata": {},
     "output_type": "display_data"
    }
   ],
   "source": [
    "plot_fig()"
   ]
  },
  {
   "cell_type": "code",
   "execution_count": null,
   "metadata": {
    "collapsed": true
   },
   "outputs": [],
   "source": []
  },
  {
   "cell_type": "code",
   "execution_count": 204,
   "metadata": {
    "collapsed": false
   },
   "outputs": [
    {
     "name": "stdout",
     "output_type": "stream",
     "text": [
      "0.0\n",
      "0.1\n",
      "0.2\n",
      "0.3\n",
      "0.4\n",
      "0.5\n",
      "0.6\n",
      "0.7\n",
      "0.8\n",
      "0.9\n"
     ]
    }
   ],
   "source": [
    "#Training algo\n",
    "k=1\n",
    "histd, histg = np.zeros(train_iters), np.zeros(train_iters)\n",
    "\n",
    "for i in range(train_iters):\n",
    "    for j in range(k):\n",
    "        x = np.random.normal(mu, sigma, M)\n",
    "        x.sort()\n",
    "        z = np.linspace(-5.0,5.0,M)+np.random.random(M)*0.01\n",
    "        histd[i] = train_d(np.reshape(z,(M,1)), np.reshape(x,(M,1)))\n",
    "        \n",
    "    z = np.linspace(-5.0,5.0,M)+np.random.random(M)*0.01\n",
    "    histg[i] = train_g(np.reshape(z,(M,1)))\n",
    "    if i%(train_iters//10) == 0:\n",
    "        print(float(i)/float(train_iters))\n",
    "        "
   ]
  },
  {
   "cell_type": "code",
   "execution_count": 205,
   "metadata": {
    "collapsed": false
   },
   "outputs": [
    {
     "data": {
      "text/plain": [
       "<matplotlib.legend.Legend at 0x7fc5d77a6c10>"
      ]
     },
     "execution_count": 205,
     "metadata": {},
     "output_type": "execute_result"
    },
    {
     "data": {
      "image/png": "[encoded data removed]",
      "text/plain": [
       "<matplotlib.figure.Figure at 0x7fc5e0928c90>"
      ]
     },
     "metadata": {},
     "output_type": "display_data"
    }
   ],
   "source": [
    "plt.plot(histd, label='obj_d')\n",
    "plt.plot(1-histg, label='obj_g')\n",
    "plt.legend()"
   ]
  },
  {
   "cell_type": "code",
   "execution_count": 206,
   "metadata": {
    "collapsed": false
   },
   "outputs": [
    {
     "data": {
      "image/png": "[encoded data removed]",
      "text/plain": [
       "<matplotlib.figure.Figure at 0x7fc5d77e6290>"
      ]
     },
     "metadata": {},
     "output_type": "display_data"
    }
   ],
   "source": [
    "plot_fig()"
   ]
  },
  {
   "cell_type": "code",
   "execution_count": 108,
   "metadata": {
    "collapsed": false
   },
   "outputs": [
    {
     "name": "stdout",
     "output_type": "stream",
     "text": [
      "[array([[ 1.30596614,  0.15652905, -0.76615256, -1.50211143,  2.76057363,\n",
      "        -1.81654203]], dtype=float32), array([ 0.07704598,  0.17704991, -0.10111853, -0.34572825,  0.06170582,\n",
      "       -0.35312507], dtype=float32), array([[ 0.32851645, -0.42302608, -0.22110763, -0.00642242,  0.1905548 ],\n",
      "       [-0.43358937, -0.03991547, -0.9145661 ,  0.40119427, -0.05533509],\n",
      "       [ 0.39163426, -0.78634292,  0.54554439, -0.00740609, -0.58671033],\n",
      "       [-0.2824246 ,  0.5266037 ,  1.00079584,  0.60969096,  0.30274045],\n",
      "       [-0.48704275,  0.18148941, -0.15871662,  0.25676173,  0.04781254],\n",
      "       [-0.2725476 ,  0.23117809,  1.16025686, -0.0436177 ,  0.03793383]], dtype=float32), array([ 0.19358657,  0.32269427, -0.26993176,  0.12281479, -0.4187955 ], dtype=float32), array([[-0.01593558],\n",
      "       [-0.06563958],\n",
      "       [-1.64538014],\n",
      "       [-0.03530419],\n",
      "       [ 0.04346195]], dtype=float32), array([-1.70299935], dtype=float32)]\n"
     ]
    }
   ],
   "source": [
    "params_g_values_new = lasagne.layers.get_all_param_values(g_out)\n",
    "print params_g_values_new"
   ]
  },
  {
   "cell_type": "code",
   "execution_count": 109,
   "metadata": {
    "collapsed": false
   },
   "outputs": [
    {
     "data": {
      "text/plain": [
       "[array([[ 1.28034103, -0.15809663, -0.7287339 , -1.40600955,  2.76786065,\n",
       "         -1.71776342]], dtype=float32),\n",
       " array([ 0.,  0.,  0.,  0.,  0.,  0.], dtype=float32),\n",
       " array([[ 0.18427937, -0.48007122,  0.07131997, -0.09387987,  0.21573195],\n",
       "        [-0.43121296, -0.06635982, -0.96600533,  0.43089345,  0.03275685],\n",
       "        [ 0.53296852, -0.70899695,  0.33899909,  0.08289182, -0.63834429],\n",
       "        [-0.14220494,  0.57113051,  0.64549571,  0.69104236,  0.28943148],\n",
       "        [-0.61689734,  0.17320131,  0.27907988,  0.18652847,  0.0096604 ],\n",
       "        [-0.13467059,  0.26531062,  0.77555197,  0.03455591,  0.03861818]], dtype=float32),\n",
       " array([ 0.,  0.,  0.,  0.,  0.], dtype=float32),\n",
       " array([[ 0.1858013 ],\n",
       "        [ 0.0478703 ],\n",
       "        [-0.59197837],\n",
       "        [ 0.29776847],\n",
       "        [ 0.1384663 ]], dtype=float32),\n",
       " array([ 0.], dtype=float32)]"
      ]
     },
     "execution_count": 109,
     "metadata": {},
     "output_type": "execute_result"
    }
   ],
   "source": [
    "params_g_values"
   ]
  }
 ],
 "metadata": {
  "kernelspec": {
   "display_name": "Python 2",
   "language": "python",
   "name": "python2"
  },
  "language_info": {
   "codemirror_mode": {
    "name": "ipython",
    "version": 2
   },
   "file_extension": ".py",
   "mimetype": "text/x-python",
   "name": "python",
   "nbconvert_exporter": "python",
   "pygments_lexer": "ipython2",
   "version": "2.7.11"
  }
 },
 "nbformat": 4,
 "nbformat_minor": 0
}
